{
 "cells": [
  {
   "cell_type": "markdown",
   "metadata": {},
   "source": [
    "# Classes, class instance"
   ]
  },
  {
   "cell_type": "markdown",
   "metadata": {},
   "source": [
    "https://docs.python.org/3/tutorial/classes.html"
   ]
  },
  {
   "cell_type": "markdown",
   "metadata": {},
   "source": [
    "Classs is a set of data (variables) and methods (functions).\n",
    "\n",
    "This part begins our exploration of the Python class—a coding structure and device used to implement new kinds of objects in Python that support inheritance. Classes are Python’s main object-oriented programming (OOP) tool, so we’ll also look at OOP basics. OOP offers a different and often more effective way of programming, in which we factor code to minimize redundancy, and write new programs by customizing existing code instead of changing it in place.\n",
    "\n"
   ]
  },
  {
   "cell_type": "code",
   "execution_count": 160,
   "metadata": {},
   "outputs": [],
   "source": [
    "class A:\n",
    "    pass"
   ]
  },
  {
   "cell_type": "markdown",
   "metadata": {},
   "source": [
    "- Each class statement generates a new class object.\n",
    "- Each time a class is called, it generates a new instance object.\n",
    "- Instances are automatically linked to the classes from which they are created.\n",
    "- Classes are automatically linked to their superclasses \n"
   ]
  },
  {
   "cell_type": "code",
   "execution_count": 161,
   "metadata": {},
   "outputs": [
    {
     "data": {
      "text/plain": [
       "<__main__.A at 0x7f2f480fcd00>"
      ]
     },
     "execution_count": 161,
     "metadata": {},
     "output_type": "execute_result"
    }
   ],
   "source": [
    "a = A()\n",
    "a"
   ]
  },
  {
   "cell_type": "code",
   "execution_count": 162,
   "metadata": {},
   "outputs": [
    {
     "data": {
      "text/plain": [
       "<__main__.A at 0x7f2f480a9d60>"
      ]
     },
     "execution_count": 162,
     "metadata": {},
     "output_type": "execute_result"
    }
   ],
   "source": [
    "A()"
   ]
  },
  {
   "cell_type": "code",
   "execution_count": 163,
   "metadata": {},
   "outputs": [],
   "source": [
    "class Dog:\n",
    "    num_legs = 4 # <- Class variable\n",
    "    def __init__(self, name):\n",
    "        self.name = name # <- Instance variable"
   ]
  },
  {
   "cell_type": "code",
   "execution_count": 164,
   "metadata": {},
   "outputs": [
    {
     "data": {
      "text/plain": [
       "4"
      ]
     },
     "execution_count": 164,
     "metadata": {},
     "output_type": "execute_result"
    }
   ],
   "source": [
    "Dog.num_legs"
   ]
  },
  {
   "cell_type": "code",
   "execution_count": 165,
   "metadata": {},
   "outputs": [
    {
     "data": {
      "text/plain": [
       "('Jack', 'Jill')"
      ]
     },
     "execution_count": 165,
     "metadata": {},
     "output_type": "execute_result"
    }
   ],
   "source": [
    "jack = Dog('Jack')\n",
    "jill = Dog('Jill')\n",
    "jack.name, jill.name"
   ]
  },
  {
   "cell_type": "code",
   "execution_count": 166,
   "metadata": {},
   "outputs": [
    {
     "data": {
      "text/plain": [
       "(4, 4)"
      ]
     },
     "execution_count": 166,
     "metadata": {},
     "output_type": "execute_result"
    }
   ],
   "source": [
    "jack.num_legs, jill.num_legs"
   ]
  },
  {
   "cell_type": "code",
   "execution_count": null,
   "metadata": {},
   "outputs": [],
   "source": [
    "Dog.num_legs"
   ]
  },
  {
   "cell_type": "code",
   "execution_count": 167,
   "metadata": {},
   "outputs": [
    {
     "ename": "AttributeError",
     "evalue": "type object 'Dog' has no attribute 'name'",
     "output_type": "error",
     "traceback": [
      "\u001b[0;31m---------------------------------------------------------------------------\u001b[0m",
      "\u001b[0;31mAttributeError\u001b[0m                            Traceback (most recent call last)",
      "\u001b[0;32m<ipython-input-167-629675d46941>\u001b[0m in \u001b[0;36m<module>\u001b[0;34m\u001b[0m\n\u001b[0;32m----> 1\u001b[0;31m \u001b[0mDog\u001b[0m\u001b[0;34m.\u001b[0m\u001b[0mname\u001b[0m\u001b[0;34m\u001b[0m\u001b[0;34m\u001b[0m\u001b[0m\n\u001b[0m",
      "\u001b[0;31mAttributeError\u001b[0m: type object 'Dog' has no attribute 'name'"
     ]
    }
   ],
   "source": [
    "Dog.name"
   ]
  },
  {
   "cell_type": "code",
   "execution_count": 168,
   "metadata": {},
   "outputs": [],
   "source": [
    "Dog.num_legs = 6"
   ]
  },
  {
   "cell_type": "code",
   "execution_count": 169,
   "metadata": {},
   "outputs": [
    {
     "data": {
      "text/plain": [
       "(6, 6)"
      ]
     },
     "execution_count": 169,
     "metadata": {},
     "output_type": "execute_result"
    }
   ],
   "source": [
    "jack.num_legs, jill.num_legs"
   ]
  },
  {
   "cell_type": "code",
   "execution_count": 170,
   "metadata": {},
   "outputs": [],
   "source": [
    "Dog.num_legs = 4"
   ]
  },
  {
   "cell_type": "code",
   "execution_count": 171,
   "metadata": {},
   "outputs": [],
   "source": [
    "jack.num_legs = 6"
   ]
  },
  {
   "cell_type": "code",
   "execution_count": 172,
   "metadata": {},
   "outputs": [
    {
     "data": {
      "text/plain": [
       "(6, 4, 4)"
      ]
     },
     "execution_count": 172,
     "metadata": {},
     "output_type": "execute_result"
    }
   ],
   "source": [
    "jack.num_legs, jill.num_legs, Dog.num_legs"
   ]
  },
  {
   "cell_type": "code",
   "execution_count": 174,
   "metadata": {},
   "outputs": [
    {
     "data": {
      "text/plain": [
       "(6, 4)"
      ]
     },
     "execution_count": 174,
     "metadata": {},
     "output_type": "execute_result"
    }
   ],
   "source": [
    "jack.num_legs, jack.__class__.num_legs"
   ]
  },
  {
   "cell_type": "code",
   "execution_count": 185,
   "metadata": {},
   "outputs": [],
   "source": [
    "\n",
    "class A:\n",
    "\n",
    "    class_attribute = 0\n",
    "\n",
    "\n",
    "    def __init__(self, p1, kw1=None):\n",
    "        print(\"Initialise class: %r\" % self.__class__) \n",
    "        self.p1 = p1\n",
    "        self.kw1 = kw1\n",
    "\n",
    "    def m(self, a):\n",
    "        self.p1 += a\n",
    "        self.__class__.class_attribute=1\n",
    "        return 'instance method called', self\n",
    "    \n",
    "    \n",
    "    @classmethod\n",
    "    def default(cls):\n",
    "        cls.class_attribute +=1\n",
    "        return 'class method called', cls\n",
    "        \n",
    "    @staticmethod\n",
    "    def s(a, b):\n",
    "        return 'static method called'\n",
    "        \n",
    "    def __repr__(self):\n",
    "        return '__repr__ for A'\n",
    "    \n",
    "    def __str__(self):\n",
    "        return '__str__ for A'"
   ]
  },
  {
   "cell_type": "code",
   "execution_count": 147,
   "metadata": {},
   "outputs": [
    {
     "data": {
      "text/plain": [
       "0"
      ]
     },
     "execution_count": 147,
     "metadata": {},
     "output_type": "execute_result"
    }
   ],
   "source": [
    "A.class_attribute"
   ]
  },
  {
   "cell_type": "code",
   "execution_count": 187,
   "metadata": {},
   "outputs": [
    {
     "name": "stdout",
     "output_type": "stream",
     "text": [
      "Initialise class: <class '__main__.A'>\n",
      "Initialise class: <class '__main__.A'>\n"
     ]
    }
   ],
   "source": [
    "a, b = A(1), A(2,3)"
   ]
  },
  {
   "cell_type": "code",
   "execution_count": 149,
   "metadata": {},
   "outputs": [
    {
     "data": {
      "text/plain": [
       "(0, 0)"
      ]
     },
     "execution_count": 149,
     "metadata": {},
     "output_type": "execute_result"
    }
   ],
   "source": [
    "a.class_attribute, b.class_attribute"
   ]
  },
  {
   "cell_type": "code",
   "execution_count": 150,
   "metadata": {},
   "outputs": [
    {
     "ename": "AttributeError",
     "evalue": "type object 'A' has no attribute 'p1'",
     "output_type": "error",
     "traceback": [
      "\u001b[0;31m---------------------------------------------------------------------------\u001b[0m",
      "\u001b[0;31mAttributeError\u001b[0m                            Traceback (most recent call last)",
      "\u001b[0;32m<ipython-input-150-2c89e08dec77>\u001b[0m in \u001b[0;36m<module>\u001b[0;34m\u001b[0m\n\u001b[0;32m----> 1\u001b[0;31m \u001b[0mA\u001b[0m\u001b[0;34m.\u001b[0m\u001b[0mp1\u001b[0m\u001b[0;34m\u001b[0m\u001b[0;34m\u001b[0m\u001b[0m\n\u001b[0m",
      "\u001b[0;31mAttributeError\u001b[0m: type object 'A' has no attribute 'p1'"
     ]
    }
   ],
   "source": [
    "A.p1"
   ]
  },
  {
   "cell_type": "code",
   "execution_count": 151,
   "metadata": {},
   "outputs": [],
   "source": [
    "A.class_attribute=6"
   ]
  },
  {
   "cell_type": "code",
   "execution_count": 157,
   "metadata": {},
   "outputs": [
    {
     "data": {
      "text/plain": [
       "(5, 6)"
      ]
     },
     "execution_count": 157,
     "metadata": {},
     "output_type": "execute_result"
    }
   ],
   "source": [
    "a.class_attribute, b.class_attribute"
   ]
  },
  {
   "cell_type": "code",
   "execution_count": 153,
   "metadata": {},
   "outputs": [
    {
     "data": {
      "text/plain": [
       "(9764544, 9764544)"
      ]
     },
     "execution_count": 153,
     "metadata": {},
     "output_type": "execute_result"
    }
   ],
   "source": [
    "id(a.class_attribute), id(b.class_attribute)"
   ]
  },
  {
   "cell_type": "code",
   "execution_count": 154,
   "metadata": {},
   "outputs": [],
   "source": [
    "a.class_attribute=5"
   ]
  },
  {
   "cell_type": "code",
   "execution_count": 158,
   "metadata": {},
   "outputs": [
    {
     "data": {
      "text/plain": [
       "(5, 6)"
      ]
     },
     "execution_count": 158,
     "metadata": {},
     "output_type": "execute_result"
    }
   ],
   "source": [
    "a.class_attribute, a.__class__.class_attribute"
   ]
  },
  {
   "cell_type": "code",
   "execution_count": 181,
   "metadata": {},
   "outputs": [
    {
     "data": {
      "text/plain": [
       "('instance method called', <__main__.A at 0x7f2f40fce130>)"
      ]
     },
     "execution_count": 181,
     "metadata": {},
     "output_type": "execute_result"
    }
   ],
   "source": [
    "a.m(1)"
   ]
  },
  {
   "cell_type": "code",
   "execution_count": 188,
   "metadata": {},
   "outputs": [
    {
     "data": {
      "text/plain": [
       "('class method called', __main__.A)"
      ]
     },
     "execution_count": 188,
     "metadata": {},
     "output_type": "execute_result"
    }
   ],
   "source": [
    "a.default()"
   ]
  },
  {
   "cell_type": "code",
   "execution_count": 183,
   "metadata": {},
   "outputs": [
    {
     "data": {
      "text/plain": [
       "('class method called', __main__.A)"
      ]
     },
     "execution_count": 183,
     "metadata": {},
     "output_type": "execute_result"
    }
   ],
   "source": [
    "A.default()"
   ]
  },
  {
   "cell_type": "code",
   "execution_count": 184,
   "metadata": {},
   "outputs": [
    {
     "data": {
      "text/plain": [
       "'static method called'"
      ]
     },
     "execution_count": 184,
     "metadata": {},
     "output_type": "execute_result"
    }
   ],
   "source": [
    "A.s(1,2)"
   ]
  },
  {
   "cell_type": "code",
   "execution_count": 189,
   "metadata": {},
   "outputs": [
    {
     "name": "stdout",
     "output_type": "stream",
     "text": [
      "__str__ for A\n"
     ]
    }
   ],
   "source": [
    "print(a)"
   ]
  },
  {
   "cell_type": "code",
   "execution_count": 190,
   "metadata": {},
   "outputs": [
    {
     "data": {
      "text/plain": [
       "'__str__ for A'"
      ]
     },
     "execution_count": 190,
     "metadata": {},
     "output_type": "execute_result"
    }
   ],
   "source": [
    "'{}'.format(a)"
   ]
  },
  {
   "cell_type": "code",
   "execution_count": 191,
   "metadata": {},
   "outputs": [
    {
     "data": {
      "text/plain": [
       "'__str__ for A: object'"
      ]
     },
     "execution_count": 191,
     "metadata": {},
     "output_type": "execute_result"
    }
   ],
   "source": [
    "f\"{a}: object\""
   ]
  },
  {
   "cell_type": "code",
   "execution_count": 192,
   "metadata": {},
   "outputs": [
    {
     "data": {
      "text/plain": [
       "__repr__ for A"
      ]
     },
     "execution_count": 192,
     "metadata": {},
     "output_type": "execute_result"
    }
   ],
   "source": [
    "a"
   ]
  },
  {
   "cell_type": "markdown",
   "metadata": {},
   "source": [
    "### Special Method Names\n",
    "\n",
    "[Python 3 latest: Special Method Names](https://docs.python.org/3/reference/datamodel.html?#special-method-names)\n",
    "\n",
    "#### Basic customization\n",
    "\n",
    "* [`object.__new__(cls[, ...])`](https://docs.python.org/3/reference/datamodel.html?#object.__new__)\n",
    "* [`object.__init__(self[, ...])`](https://docs.python.org/3/reference/datamodel.html?#object.__init__)\n",
    "* [`object.__del__(self)`](https://docs.python.org/3/reference/datamodel.html?#object.__del__)\n",
    "* [`object.__repr__(self)`](https://docs.python.org/3/reference/datamodel.html?#object.__repr__)\n",
    "* [`object.__str__(self)`](https://docs.python.org/3/reference/datamodel.html?#object.__str__)\n",
    "* [`object.__bytes__(self)`](https://docs.python.org/3/reference/datamodel.html?#object.__bytes__)\n",
    "* [`object.__format__(self, format_spec)`](https://docs.python.org/3/reference/datamodel.html?#object.__format__)\n",
    "* [`object.__format__(x, '')`](https://docs.python.org/3/reference/datamodel.html?#object.__format__)\n",
    "* [`object.__lt__(self, other)`](https://docs.python.org/3/reference/datamodel.html?#object.__lt__)\n",
    "* [`object.__le__(self, other)`](https://docs.python.org/3/reference/datamodel.html?#object.__le__)\n",
    "* [`object.__eq__(self, other)`](https://docs.python.org/3/reference/datamodel.html?#object.__eq__)\n",
    "* [`object.__ne__(self, other)`](https://docs.python.org/3/reference/datamodel.html?#object.__ne__)\n",
    "* [`object.__gt__(self, other)`](https://docs.python.org/3/reference/datamodel.html?#object.__gt__)\n",
    "* [`object.__ge__(self, other)`](https://docs.python.org/3/reference/datamodel.html?#object.__ge__)\n",
    "* [`object.__hash__(self)`](https://docs.python.org/3/reference/datamodel.html?#object.__hash__)\n",
    "* [`object.__bool__(self)`](https://docs.python.org/3/reference/datamodel.html?#object.__bool__)\n",
    "\n",
    "\n",
    "#### Customizing attribute access\n",
    "* [`object.__getattr__(self, name)`](https://docs.python.org/3/reference/datamodel.html?#object.__getattr__)\n",
    "* [`object.__getattribute__(self, name)`](https://docs.python.org/3/reference/datamodel.html?#object.__getattribute__)\n",
    "* [`object.__setattr__(self, name, value)`](https://docs.python.org/3/reference/datamodel.html?#object.__setattr__)\n",
    "* [`object.__delattr__(self, name)`](https://docs.python.org/3/reference/datamodel.html?#object.__delattr__)\n",
    "* [`object.__dir__(self)`](https://docs.python.org/3/reference/datamodel.html?#object.__dir__)\n",
    "\n",
    "##### Implementing Descriptors\n",
    "* [`object.__get__(self, instance, owner=None)`](https://docs.python.org/3/reference/datamodel.html?#object.__get__)\n",
    "* [`object.__set__(self, instance, value)`](https://docs.python.org/3/reference/datamodel.html?#object.__set__)\n",
    "* [`object.__delete__(self, instance)`](https://docs.python.org/3/reference/datamodel.html?#object.__delete__)\n",
    "\n",
    "##### `__slots__`\n",
    "* [`object.__slots__`](https://docs.python.org/3/reference/datamodel.html?#object.__slots__)\n",
    "\n",
    "#### Customizing class creation\n",
    " classmethod object.__init_subclass__(cls)\n",
    "* [`classmethod object.__init_subclass__(cls)`](https://docs.python.org/3/reference/datamodel.html?#class.__prepare__)\n",
    "\n",
    "\n",
    "##### Preparing the class namespace \n",
    "* [`metaclass.__prepare__(name, bases, **kwds) `](https://docs.python.org/3/reference/datamodel.html#preparing-the-class-namespace)\n",
    "\n",
    "#### Customizing instance and subclass checks\n",
    "* [`class.__instancecheck__(self, instance)`](https://docs.python.org/3/reference/datamodel.html?#class.__instancecheck__)\n",
    "* [`class.__subclasscheck__(self, subclass)`](https://docs.python.org/3/reference/datamodel.html?#class.__subclasscheck__)\n",
    "\n",
    "#### Emulating generic types\n",
    "* [`classmethod object.__class_getitem__(cls, key)`](https://docs.python.org/3/reference/datamodel.html?#object.__class_getitem__)\n",
    "\n",
    "\n",
    "#### Emulating callable objects\n",
    "* [`object.__call__(self[, args...])`](https://docs.python.org/3/reference/datamodel.html?#object.__call__)\n",
    "\n",
    "#### Emulating container types\n",
    "* [`object.__len__(self)`](https://docs.python.org/3/reference/datamodel.html?#object.__len__)\n",
    "* [`object.__length_hint__(self)`](https://docs.python.org/3/reference/datamodel.html?#object.__length_hint__)\n",
    "* [`object.__getitem__(self, key)`](https://docs.python.org/3/reference/datamodel.html?#object.__getitem__)\n",
    "* [`object.__setitem__(self, key, value)`](https://docs.python.org/3/reference/datamodel.html?#object.__setitem__)\n",
    "* [`object.__delitem__(self, key)`](https://docs.python.org/3/reference/datamodel.html?#object.__delitem__)\n",
    "* [`object.__missing__(self, key)`](https://docs.python.org/3/reference/datamodel.html?#object.__missing__)\n",
    "* [`object.__iter__(self)`](https://docs.python.org/3/reference/datamodel.html?#object.__iter__)\n",
    "* [`object.__reversed__(self)`](https://docs.python.org/3/reference/datamodel.html?#object.__reversed__)\n",
    "* [`object.__contains__(self, item)`](https://docs.python.org/3/reference/datamodel.html?#object.__contains__)\n",
    "\n",
    "#### Emulating numeric types\n",
    "* [`object.__add__(self, other)`](https://docs.python.org/3/reference/datamodel.html?#object.__add__)\n",
    "* [`object.__sub__(self, other)`](https://docs.python.org/3/reference/datamodel.html?#object.__sub__)\n",
    "* [`object.__mul__(self, other)`](https://docs.python.org/3/reference/datamodel.html?#object.__mul__)\n",
    "* [`object.__matmul__(self, other)`](https://docs.python.org/3/reference/datamodel.html?#object.__matmul__)\n",
    "* [`object.__truediv__(self, other)`](https://docs.python.org/3/reference/datamodel.html?#object.__truediv__)\n",
    "* [`object.__floordiv__(self, other)`](https://docs.python.org/3/reference/datamodel.html?#object.__floordiv__)\n",
    "* [`object.__mod__(self, other)`](https://docs.python.org/3/reference/datamodel.html?#object.__mod__)\n",
    "* [`object.__divmod__(self, other)`](https://docs.python.org/3/reference/datamodel.html?#object.__divmod__)\n",
    "* [`object.__pow__(self, other[, modulo])`](https://docs.python.org/3/reference/datamodel.html?#object.__pow__)\n",
    "* [`object.__lshift__(self, other)`](https://docs.python.org/3/reference/datamodel.html?#object.__lshift__)\n",
    "* [`object.__rshift__(self, other)`](https://docs.python.org/3/reference/datamodel.html?#object.__rshift__)\n",
    "* [`object.__and__(self, other)`](https://docs.python.org/3/reference/datamodel.html?#object.__and__)\n",
    "* [`object.__xor__(self, other)`](https://docs.python.org/3/reference/datamodel.html?#object.__xor__)\n",
    "* [`object.__or__(self, other)`](https://docs.python.org/3/reference/datamodel.html?#object.__or__)\n",
    "* [`object.__radd__(self, other)`](https://docs.python.org/3/reference/datamodel.html?#object.__radd__)\n",
    "* [`object.__rsub__(self, other)`](https://docs.python.org/3/reference/datamodel.html?#object.__rsub__)\n",
    "* [`object.__rmul__(self, other)`](https://docs.python.org/3/reference/datamodel.html?#object.__rmul__)\n",
    "* [`object.__rmatmul__(self, other)`](https://docs.python.org/3/reference/datamodel.html?#object.__rmatmul__)\n",
    "* [`object.__rtruediv__(self, other)`](https://docs.python.org/3/reference/datamodel.html?#object.__rtruediv__)\n",
    "* [`object.__rfloordiv__(self, other)`](https://docs.python.org/3/reference/datamodel.html?#object.__rfloordiv__)\n",
    "* [`object.__rmod__(self, other)`](https://docs.python.org/3/reference/datamodel.html?#object.__rmod__)\n",
    "* [`object.__rdivmod__(self, other)`](https://docs.python.org/3/reference/datamodel.html?#object.__rdivmod__)\n",
    "* [`object.__rpow__(self, other[, modulo])`](https://docs.python.org/3/reference/datamodel.html?#object.__rpow__)\n",
    "* [`object.__rlshift__(self, other)`](https://docs.python.org/3/reference/datamodel.html?#object.__rlshift__)\n",
    "* [`object.__rrshift__(self, other)`](https://docs.python.org/3/reference/datamodel.html?#object.__rrshift__)\n",
    "* [`object.__rand__(self, other)`](https://docs.python.org/3/reference/datamodel.html?#object.__rand__)\n",
    "* [`object.__rxor__(self, other)`](https://docs.python.org/3/reference/datamodel.html?#object.__rxor__)\n",
    "* [`object.__ror__(self, other)`](https://docs.python.org/3/reference/datamodel.html?#object.__ror__)\n",
    "* [`object.__iadd__(self, other)`](https://docs.python.org/3/reference/datamodel.html?#object.__iadd__)\n",
    "* [`object.__isub__(self, other)`](https://docs.python.org/3/reference/datamodel.html?#object.__isub__)\n",
    "* [`object.__imul__(self, other)`](https://docs.python.org/3/reference/datamodel.html?#object.__imul__)\n",
    "* [`object.__imatmul__(self, other)`](https://docs.python.org/3/reference/datamodel.html?#object.__imatmul__)\n",
    "* [`object.__itruediv__(self, other)`](https://docs.python.org/3/reference/datamodel.html?#object.__itruediv__)\n",
    "* [`object.__ifloordiv__(self, other)`](https://docs.python.org/3/reference/datamodel.html?#object.__ifloordiv__)\n",
    "* [`object.__imod__(self, other)`](https://docs.python.org/3/reference/datamodel.html?#object.__imod__)\n",
    "* [`object.__ipow__(self, other[, modulo])`](https://docs.python.org/3/reference/datamodel.html?#object.__ipow__)\n",
    "* [`object.__ilshift__(self, other)`](https://docs.python.org/3/reference/datamodel.html?#object.__ilshift__)\n",
    "* [`object.__irshift__(self, other)`](https://docs.python.org/3/reference/datamodel.html?#object.__irshift__)\n",
    "* [`object.__iand__(self, other)`](https://docs.python.org/3/reference/datamodel.html?#object.__iand__)\n",
    "* [`object.__ixor__(self, other)`](https://docs.python.org/3/reference/datamodel.html?#object.__ixor__)\n",
    "* [`object.__ior__(self, other)`](https://docs.python.org/3/reference/datamodel.html?#object.__ior__)\n",
    "* [`object.__neg__(self)`](https://docs.python.org/3/reference/datamodel.html?#object.__neg__)\n",
    "* [`object.__pos__(self)`](https://docs.python.org/3/reference/datamodel.html?#object.__pos__)\n",
    "* [`object.__abs__(self)`](https://docs.python.org/3/reference/datamodel.html?#object.__abs__)\n",
    "* [`object.__invert__(self)`](https://docs.python.org/3/reference/datamodel.html?#object.__invert__)\n",
    "* [`object.__complex__(self)`](https://docs.python.org/3/reference/datamodel.html?#object.__complex__)\n",
    "* [`object.__int__(self)`](https://docs.python.org/3/reference/datamodel.html?#object.__int__)\n",
    "* [`object.__float__(self)`](https://docs.python.org/3/reference/datamodel.html?#object.__float__)\n",
    "* [`object.__index__(self)`](https://docs.python.org/3/reference/datamodel.html?#object.__index__)\n",
    "* [`object.__round__(self[, ndigits])`](https://docs.python.org/3/reference/datamodel.html?#object.__round__)\n",
    "* [`object.__trunc__(self)`](https://docs.python.org/3/reference/datamodel.html?#object.__trunc__)\n",
    "* [`object.__floor__(self)`](https://docs.python.org/3/reference/datamodel.html?#object.__floor__)\n",
    "* [`object.__ceil__(self)`](https://docs.python.org/3/reference/datamodel.html?#object.__ceil__)\n",
    "\n",
    "#### With Statement Context Managers\n",
    "* [`object.__enter__(self)`](https://docs.python.org/3/reference/datamodel.html?#object.__enter__)\n",
    "* [`object.__exit__(self, exc_type, exc_value, traceback)`](https://docs.python.org/3/reference/datamodel.html?#object.__exit__)"
   ]
  },
  {
   "cell_type": "code",
   "execution_count": null,
   "metadata": {},
   "outputs": [],
   "source": []
  },
  {
   "cell_type": "code",
   "execution_count": null,
   "metadata": {},
   "outputs": [],
   "source": []
  },
  {
   "cell_type": "markdown",
   "metadata": {},
   "source": [
    "## Basic operators class methods\n",
    "`__eq__(self, other)` ==\n",
    "\n",
    "`__ne__(self, other)` !=\n",
    "\n",
    "`__lt__(self, other)` <\n",
    "\n",
    "`__le__(self, other)` =<\n",
    "\n",
    "`__ge__(self, other)` >=\n",
    "\n",
    "`__gt__(self, other)` >"
   ]
  },
  {
   "cell_type": "code",
   "execution_count": 193,
   "metadata": {},
   "outputs": [
    {
     "name": "stdout",
     "output_type": "stream",
     "text": [
      "Initialise class: <class '__main__.C'>\n",
      "Initialise class: <class '__main__.C'>\n"
     ]
    }
   ],
   "source": [
    "class C(A):\n",
    "    def __eq__(self, other):\n",
    "        if isinstance(other, self.__class__):\n",
    "            return self.p1 == other.p1\n",
    "        return False\n",
    "\n",
    "c1 = C(1)\n",
    "c2 = C(0)"
   ]
  },
  {
   "cell_type": "code",
   "execution_count": 194,
   "metadata": {},
   "outputs": [
    {
     "data": {
      "text/plain": [
       "False"
      ]
     },
     "execution_count": 194,
     "metadata": {},
     "output_type": "execute_result"
    }
   ],
   "source": [
    "c2 == c1"
   ]
  },
  {
   "cell_type": "code",
   "execution_count": 195,
   "metadata": {},
   "outputs": [
    {
     "name": "stdout",
     "output_type": "stream",
     "text": [
      "Initialise class: <class '__main__.C'>\n"
     ]
    }
   ],
   "source": [
    "c3  =  C(1)"
   ]
  },
  {
   "cell_type": "code",
   "execution_count": 196,
   "metadata": {},
   "outputs": [
    {
     "data": {
      "text/plain": [
       "True"
      ]
     },
     "execution_count": 196,
     "metadata": {},
     "output_type": "execute_result"
    }
   ],
   "source": [
    "c3 == c1"
   ]
  },
  {
   "cell_type": "code",
   "execution_count": 61,
   "metadata": {},
   "outputs": [
    {
     "name": "stdout",
     "output_type": "stream",
     "text": [
      "Initialise class: <class '__main__.C'>\n"
     ]
    },
    {
     "data": {
      "text/plain": [
       "True"
      ]
     },
     "execution_count": 61,
     "metadata": {},
     "output_type": "execute_result"
    }
   ],
   "source": [
    "c3 = C(1)\n",
    "c3 == c1"
   ]
  },
  {
   "cell_type": "code",
   "execution_count": null,
   "metadata": {},
   "outputs": [],
   "source": []
  },
  {
   "cell_type": "markdown",
   "metadata": {},
   "source": [
    "## Other operators class methods\n",
    "\n",
    "`__add__(self, other)` +\n",
    "\n",
    "`__sub__(self, other)` -\n",
    "\n",
    "`__mul__(self, other)` *\n",
    "\n",
    "`__truediv__(self, other)` /\n",
    "\n",
    "`__floordiv__(self, other)` //\n",
    "\n",
    "`__mod__(self, other)` %\n",
    "\n",
    "`__divmod__(self, other)` divmod.\n",
    "\n",
    "`__pow__(self, other, modulo)` **\n",
    "\n",
    "`__lshift__(self, other)` <<\n",
    "\n",
    "`__rshift__(self, other)` >>\n",
    "\n",
    "`__and__(self, other)` &\n",
    "\n",
    "`__xor__(self, other)` ^\n",
    "\n",
    "`__or__(self, other)` |"
   ]
  },
  {
   "cell_type": "markdown",
   "metadata": {},
   "source": [
    "## super()\n",
    "https://docs.python.org/3/library/functions.html#super"
   ]
  },
  {
   "cell_type": "code",
   "execution_count": 199,
   "metadata": {},
   "outputs": [
    {
     "name": "stdout",
     "output_type": "stream",
     "text": [
      "Initialise class: <class '__main__.D'>\n",
      "Child\n"
     ]
    }
   ],
   "source": [
    "class D(A):\n",
    "    def __init__(self, p1, p2, kw1=None):\n",
    "        super().__init__(kw1,p1)\n",
    "        print(\"Child\")\n",
    "        self.p2 = p2\n",
    "\n",
    "    def m(self, a):\n",
    "        return super().m(a)\n",
    "        \n",
    "d1 = D(1, 2)"
   ]
  },
  {
   "cell_type": "code",
   "execution_count": 200,
   "metadata": {},
   "outputs": [
    {
     "data": {
      "text/plain": [
       "(None, 2)"
      ]
     },
     "execution_count": 200,
     "metadata": {},
     "output_type": "execute_result"
    }
   ],
   "source": [
    "d1.p1, d1.p2"
   ]
  },
  {
   "cell_type": "code",
   "execution_count": 83,
   "metadata": {},
   "outputs": [],
   "source": [
    "d1.m(111)"
   ]
  },
  {
   "cell_type": "markdown",
   "metadata": {},
   "source": [
    "## Multiple Inheritance"
   ]
  },
  {
   "cell_type": "markdown",
   "metadata": {},
   "source": [
    "\n",
    "[Method Resolution Order in Python 3](https://medium.com/@__hungrywolf/mro-in-python-3-e2bcd2bd6851)"
   ]
  },
  {
   "cell_type": "code",
   "execution_count": 201,
   "metadata": {},
   "outputs": [
    {
     "name": "stdout",
     "output_type": "stream",
     "text": [
      "first\n",
      "third\n",
      "second\n",
      "fourth\n"
     ]
    }
   ],
   "source": [
    "class First:\n",
    "    def __init__(self):\n",
    "        print(\"first\")\n",
    "        self.first = True\n",
    "        \n",
    "    def a(self):\n",
    "        return 1\n",
    "    \n",
    "    def b(self):\n",
    "        return 1\n",
    "\n",
    "    def c(self):\n",
    "        return 1\n",
    "    \n",
    "    def d(self):\n",
    "        return 1\n",
    "\n",
    "class Second(First):\n",
    "    def __init__(self):\n",
    "        super().__init__()\n",
    "        print(\"second\")\n",
    "        self.second = True\n",
    "        \n",
    "    def a(self):\n",
    "        return 2\n",
    "    \n",
    "    def c(self):\n",
    "        return 2\n",
    "    \n",
    "class Third(First):\n",
    "    def __init__(self):\n",
    "        super().__init__()\n",
    "        print(\"third\")\n",
    "        self.third = True\n",
    "        \n",
    "    def b(self):\n",
    "        return 3\n",
    "    \n",
    "    def c(self):\n",
    "        return 3\n",
    "    \n",
    "class Fourth(Second, Third):\n",
    "    def __init__(self):\n",
    "        super().__init__()\n",
    "        print(\"fourth\")\n",
    "        self.fourth = True\n",
    "        \n",
    "f = Fourth()"
   ]
  },
  {
   "cell_type": "code",
   "execution_count": 85,
   "metadata": {},
   "outputs": [
    {
     "data": {
      "text/plain": [
       "2"
      ]
     },
     "execution_count": 85,
     "metadata": {},
     "output_type": "execute_result"
    }
   ],
   "source": [
    "f.a()"
   ]
  },
  {
   "cell_type": "code",
   "execution_count": 86,
   "metadata": {},
   "outputs": [
    {
     "data": {
      "text/plain": [
       "3"
      ]
     },
     "execution_count": 86,
     "metadata": {},
     "output_type": "execute_result"
    }
   ],
   "source": [
    "f.b()"
   ]
  },
  {
   "cell_type": "code",
   "execution_count": 87,
   "metadata": {},
   "outputs": [
    {
     "data": {
      "text/plain": [
       "2"
      ]
     },
     "execution_count": 87,
     "metadata": {},
     "output_type": "execute_result"
    }
   ],
   "source": [
    "f.c()"
   ]
  },
  {
   "cell_type": "code",
   "execution_count": 88,
   "metadata": {},
   "outputs": [
    {
     "data": {
      "text/plain": [
       "1"
      ]
     },
     "execution_count": 88,
     "metadata": {},
     "output_type": "execute_result"
    }
   ],
   "source": [
    "f.d()"
   ]
  },
  {
   "cell_type": "code",
   "execution_count": 89,
   "metadata": {},
   "outputs": [
    {
     "data": {
      "text/plain": [
       "True"
      ]
     },
     "execution_count": 89,
     "metadata": {},
     "output_type": "execute_result"
    }
   ],
   "source": [
    "f.first"
   ]
  },
  {
   "cell_type": "code",
   "execution_count": 90,
   "metadata": {},
   "outputs": [
    {
     "data": {
      "text/plain": [
       "True"
      ]
     },
     "execution_count": 90,
     "metadata": {},
     "output_type": "execute_result"
    }
   ],
   "source": [
    "f.second"
   ]
  },
  {
   "cell_type": "code",
   "execution_count": 91,
   "metadata": {},
   "outputs": [
    {
     "data": {
      "text/plain": [
       "True"
      ]
     },
     "execution_count": 91,
     "metadata": {},
     "output_type": "execute_result"
    }
   ],
   "source": [
    "f.third"
   ]
  },
  {
   "cell_type": "code",
   "execution_count": 92,
   "metadata": {},
   "outputs": [
    {
     "data": {
      "text/plain": [
       "True"
      ]
     },
     "execution_count": 92,
     "metadata": {},
     "output_type": "execute_result"
    }
   ],
   "source": [
    "f.fourth"
   ]
  },
  {
   "cell_type": "code",
   "execution_count": 103,
   "metadata": {},
   "outputs": [
    {
     "data": {
      "text/plain": [
       "[__main__.Fourth, __main__.Second, __main__.Third, __main__.First, object]"
      ]
     },
     "execution_count": 103,
     "metadata": {},
     "output_type": "execute_result"
    }
   ],
   "source": [
    "Fourth.mro()"
   ]
  },
  {
   "cell_type": "markdown",
   "metadata": {},
   "source": []
  },
  {
   "cell_type": "code",
   "execution_count": null,
   "metadata": {},
   "outputs": [],
   "source": []
  },
  {
   "cell_type": "code",
   "execution_count": null,
   "metadata": {},
   "outputs": [],
   "source": []
  },
  {
   "cell_type": "code",
   "execution_count": null,
   "metadata": {},
   "outputs": [],
   "source": []
  },
  {
   "cell_type": "code",
   "execution_count": null,
   "metadata": {},
   "outputs": [],
   "source": []
  },
  {
   "cell_type": "code",
   "execution_count": null,
   "metadata": {},
   "outputs": [],
   "source": []
  },
  {
   "cell_type": "code",
   "execution_count": null,
   "metadata": {},
   "outputs": [],
   "source": []
  },
  {
   "cell_type": "code",
   "execution_count": null,
   "metadata": {},
   "outputs": [],
   "source": []
  },
  {
   "cell_type": "code",
   "execution_count": null,
   "metadata": {},
   "outputs": [],
   "source": []
  },
  {
   "cell_type": "code",
   "execution_count": null,
   "metadata": {},
   "outputs": [],
   "source": []
  },
  {
   "cell_type": "code",
   "execution_count": null,
   "metadata": {},
   "outputs": [],
   "source": []
  },
  {
   "cell_type": "code",
   "execution_count": null,
   "metadata": {},
   "outputs": [],
   "source": []
  }
 ],
 "metadata": {
  "kernelspec": {
   "display_name": "Python 3",
   "language": "python",
   "name": "python3"
  },
  "language_info": {
   "codemirror_mode": {
    "name": "ipython",
    "version": 3
   },
   "file_extension": ".py",
   "mimetype": "text/x-python",
   "name": "python",
   "nbconvert_exporter": "python",
   "pygments_lexer": "ipython3",
   "version": "3.8.10"
  }
 },
 "nbformat": 4,
 "nbformat_minor": 4
}
