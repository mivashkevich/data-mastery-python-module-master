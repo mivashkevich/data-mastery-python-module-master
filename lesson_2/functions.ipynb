{
 "cells": [
  {
   "cell_type": "code",
   "execution_count": 24,
   "metadata": {
    "ExecuteTime": {
     "end_time": "2024-05-19T14:11:42.416068Z",
     "start_time": "2024-05-19T14:11:42.411025Z"
    }
   },
   "outputs": [],
   "source": [
    "import inspect"
   ]
  },
  {
   "cell_type": "markdown",
   "metadata": {},
   "source": [
    "# Functions\n",
    "\n",
    "https://docs.python.org/3/tutorial/controlflow.html#defining-functions\n"
   ]
  },
  {
   "cell_type": "markdown",
   "metadata": {
    "ExecuteTime": {
     "end_time": "2024-05-19T13:59:40.987644Z",
     "start_time": "2024-05-19T13:59:40.956882Z"
    }
   },
   "source": [
    "Python’s functions are first-class objects. You can assign them to variables,\n",
    "store them in data structures, pass them as arguments to other\n",
    "functions, and even return them as values from other functions.\n",
    "Grokking these concepts intuitively will make understanding advanced\n",
    "features in Python like lambdas and decorators much\n",
    "easier. It also puts you on a path towards functional programming\n",
    "techniques.\n"
   ]
  },
  {
   "cell_type": "markdown",
   "metadata": {},
   "source": [
    "## Functions are objects"
   ]
  },
  {
   "cell_type": "markdown",
   "metadata": {},
   "source": [
    "All data in a Python program is represented by objects or relations\n",
    "between objects. Things like strings, lists, modules, and functions\n",
    "are all objects. There’s nothing particularly special about functions in\n",
    "Python. They’re also just objects.\n",
    "Because the yell function is an object in Python, you can assign it to\n",
    "another variable, just like any other object:"
   ]
  },
  {
   "cell_type": "code",
   "execution_count": 65,
   "metadata": {
    "ExecuteTime": {
     "end_time": "2024-05-19T14:01:40.449325Z",
     "start_time": "2024-05-19T14:01:40.418325Z"
    }
   },
   "outputs": [
    {
     "data": {
      "text/plain": [
       "'HELLO!'"
      ]
     },
     "execution_count": 65,
     "metadata": {},
     "output_type": "execute_result"
    }
   ],
   "source": [
    "def yell(text):\n",
    "    return text.upper() + '!'\n",
    "yell('hello')"
   ]
  },
  {
   "cell_type": "code",
   "execution_count": 66,
   "metadata": {
    "ExecuteTime": {
     "end_time": "2024-05-19T14:02:40.210676Z",
     "start_time": "2024-05-19T14:02:40.200677Z"
    }
   },
   "outputs": [
    {
     "data": {
      "text/plain": [
       "'WOOF!'"
      ]
     },
     "execution_count": 66,
     "metadata": {},
     "output_type": "execute_result"
    }
   ],
   "source": [
    "# This line doesn’t call the function. It takes the function object referenced\n",
    "# by yell and creates a second name, bark, that points to it. You\n",
    "# could now also execute the same underlying function object by calling\n",
    "# bark:\n",
    "\n",
    "bark = yell\n",
    "bark('woof')"
   ]
  },
  {
   "cell_type": "markdown",
   "metadata": {},
   "source": [
    "Function objects and their names are two separate concerns. Here’s\n",
    "more proof: You can delete the function’s original name (yell). Since\n",
    "another name (bark) still points to the underlying function, you can\n",
    "still call the function through it:"
   ]
  },
  {
   "cell_type": "code",
   "execution_count": 67,
   "metadata": {
    "ExecuteTime": {
     "end_time": "2024-05-19T14:04:24.485529Z",
     "start_time": "2024-05-19T14:04:24.414853Z"
    }
   },
   "outputs": [
    {
     "ename": "NameError",
     "evalue": "name 'yell' is not defined",
     "output_type": "error",
     "traceback": [
      "\u001b[0;31m---------------------------------------------------------------------------\u001b[0m",
      "\u001b[0;31mNameError\u001b[0m                                 Traceback (most recent call last)",
      "\u001b[0;32m<ipython-input-67-579221bbda23>\u001b[0m in \u001b[0;36m<module>\u001b[0;34m\u001b[0m\n\u001b[1;32m      1\u001b[0m \u001b[0;32mdel\u001b[0m \u001b[0myell\u001b[0m\u001b[0;34m\u001b[0m\u001b[0;34m\u001b[0m\u001b[0m\n\u001b[0;32m----> 2\u001b[0;31m \u001b[0myell\u001b[0m\u001b[0;34m(\u001b[0m\u001b[0;34m'hello?'\u001b[0m\u001b[0;34m)\u001b[0m\u001b[0;34m\u001b[0m\u001b[0;34m\u001b[0m\u001b[0m\n\u001b[0m",
      "\u001b[0;31mNameError\u001b[0m: name 'yell' is not defined"
     ]
    }
   ],
   "source": [
    "del yell\n",
    "yell('hello?')"
   ]
  },
  {
   "cell_type": "code",
   "execution_count": 68,
   "metadata": {
    "ExecuteTime": {
     "end_time": "2024-05-19T14:04:33.714359Z",
     "start_time": "2024-05-19T14:04:33.707354Z"
    }
   },
   "outputs": [
    {
     "data": {
      "text/plain": [
       "'HEY!'"
      ]
     },
     "execution_count": 68,
     "metadata": {},
     "output_type": "execute_result"
    }
   ],
   "source": [
    "bark('hey')\n",
    "# A variable pointing to a function\n",
    "# and the function itself are really two separate concerns."
   ]
  },
  {
   "cell_type": "markdown",
   "metadata": {},
   "source": [
    "## Function Definition"
   ]
  },
  {
   "cell_type": "markdown",
   "metadata": {},
   "source": [
    "## Function Definition (>= Python 3.8)\n",
    "\n",
    "```\n",
    "def f(pos1, pos2, /, pos_or_kwd, *, kwd1, kwd2):\n",
    "      -----------    ----------     ----------\n",
    "        |             |                  |\n",
    "        |        Positional or keyword   |\n",
    "        |                                - Keyword only\n",
    "         -- Positional only\n",
    "```\n"
   ]
  },
  {
   "cell_type": "code",
   "execution_count": 69,
   "metadata": {},
   "outputs": [],
   "source": [
    "def fnc1(a, b, c=None, d=1):\n",
    "    print(f\"{a = }, {b = }, {c = }, {d = }\")"
   ]
  },
  {
   "cell_type": "code",
   "execution_count": 70,
   "metadata": {},
   "outputs": [
    {
     "data": {
      "text/plain": [
       "FullArgSpec(args=['a', 'b', 'c', 'd'], varargs=None, varkw=None, defaults=(None, 1), kwonlyargs=[], kwonlydefaults=None, annotations={})"
      ]
     },
     "execution_count": 70,
     "metadata": {},
     "output_type": "execute_result"
    }
   ],
   "source": [
    "inspect.getfullargspec(fnc1)"
   ]
  },
  {
   "cell_type": "code",
   "execution_count": 71,
   "metadata": {},
   "outputs": [
    {
     "name": "stdout",
     "output_type": "stream",
     "text": [
      "a = 1, b = 2, c = 3, d = 4\n"
     ]
    }
   ],
   "source": [
    "fnc1(1, 2, 3, 4)"
   ]
  },
  {
   "cell_type": "code",
   "execution_count": 72,
   "metadata": {},
   "outputs": [
    {
     "name": "stdout",
     "output_type": "stream",
     "text": [
      "a = 1, b = 2, c = None, d = 1\n"
     ]
    }
   ],
   "source": [
    "fnc1(1, 2)"
   ]
  },
  {
   "cell_type": "code",
   "execution_count": 73,
   "metadata": {},
   "outputs": [
    {
     "name": "stdout",
     "output_type": "stream",
     "text": [
      "a = 1, b = 2, c = 3, d = 4\n"
     ]
    }
   ],
   "source": [
    "fnc1(1, 2, d=4, c=3)"
   ]
  },
  {
   "cell_type": "code",
   "execution_count": 74,
   "metadata": {},
   "outputs": [
    {
     "name": "stdout",
     "output_type": "stream",
     "text": [
      "a = 1, b = 3, c = 2, d = 4\n"
     ]
    }
   ],
   "source": [
    "fnc1(c=2, a=1, d=4, b=3)"
   ]
  },
  {
   "cell_type": "code",
   "execution_count": 75,
   "metadata": {},
   "outputs": [
    {
     "ename": "SyntaxError",
     "evalue": "positional argument follows keyword argument (<ipython-input-75-051261fcd537>, line 1)",
     "output_type": "error",
     "traceback": [
      "\u001b[0;36m  File \u001b[0;32m\"<ipython-input-75-051261fcd537>\"\u001b[0;36m, line \u001b[0;32m1\u001b[0m\n\u001b[0;31m    fnc1(b=2, 1, d=4, b=3)\u001b[0m\n\u001b[0m              ^\u001b[0m\n\u001b[0;31mSyntaxError\u001b[0m\u001b[0;31m:\u001b[0m positional argument follows keyword argument\n"
     ]
    }
   ],
   "source": [
    "fnc1(b=2, 1, d=4, b=3)"
   ]
  },
  {
   "cell_type": "code",
   "execution_count": 76,
   "metadata": {},
   "outputs": [
    {
     "ename": "SyntaxError",
     "evalue": "non-default argument follows default argument (<ipython-input-76-604ab0339daf>, line 1)",
     "output_type": "error",
     "traceback": [
      "\u001b[0;36m  File \u001b[0;32m\"<ipython-input-76-604ab0339daf>\"\u001b[0;36m, line \u001b[0;32m1\u001b[0m\n\u001b[0;31m    def fnc2(a=None, b, c=None, d=1):  # Raise\u001b[0m\n\u001b[0m             ^\u001b[0m\n\u001b[0;31mSyntaxError\u001b[0m\u001b[0;31m:\u001b[0m non-default argument follows default argument\n"
     ]
    }
   ],
   "source": [
    "def fnc2(a=None, b, c=None, d=1):  # Raise\n",
    "    print(f\"{a = }, {b = }, {c = }, {d = }\")"
   ]
  },
  {
   "cell_type": "markdown",
   "metadata": {},
   "source": [
    "*args and **kwargs parameters are allow a\n",
    "function to accept optional arguments, so you can create flexible APIs\n",
    "in your modules and classes:"
   ]
  },
  {
   "cell_type": "code",
   "execution_count": 8,
   "metadata": {},
   "outputs": [],
   "source": [
    "# The above function requires at least one argument called “a”\n",
    "# but it can accept extra positional and keyword arguments as well.\n",
    "# If we call the function with additional arguments, args will collect\n",
    "# extra positional arguments as a tuple because the parameter name\n",
    "# has a * prefix.\n",
    "# Likewise, kwargs will collect extra keyword arguments as a dictionary\n",
    "# because the parameter name has a ** prefix.\n",
    "# Both args and kwargs can be empty if no extra arguments are passed\n",
    "# to the function."
   ]
  },
  {
   "cell_type": "code",
   "execution_count": 77,
   "metadata": {
    "ExecuteTime": {
     "end_time": "2024-05-19T14:11:45.634421Z",
     "start_time": "2024-05-19T14:11:45.614415Z"
    }
   },
   "outputs": [
    {
     "data": {
      "text/plain": [
       "FullArgSpec(args=['a'], varargs='arg', varkw='kwarg', defaults=None, kwonlyargs=[], kwonlydefaults=None, annotations={})"
      ]
     },
     "execution_count": 77,
     "metadata": {},
     "output_type": "execute_result"
    }
   ],
   "source": [
    "\n",
    "def fnc3(a, *arg, **kwarg):\n",
    "    print(f\"{a = }\")\n",
    "    print(f\"{arg}\")\n",
    "    print(f\"{kwarg}\")\n",
    "    \n",
    "inspect.getfullargspec(fnc3)"
   ]
  },
  {
   "cell_type": "code",
   "execution_count": 53,
   "metadata": {},
   "outputs": [
    {
     "name": "stdout",
     "output_type": "stream",
     "text": [
      "a = 1\n",
      "(2, 3, 4, 5, 6, 7)\n",
      "{'b': 1, 'c': 2, 'd': 3}\n"
     ]
    }
   ],
   "source": [
    "fnc3(1, 2, 3, 4, 5, 6, 7, b=1, c=2, d=3)"
   ]
  },
  {
   "cell_type": "markdown",
   "metadata": {},
   "source": []
  },
  {
   "cell_type": "markdown",
   "metadata": {},
   "source": [
    "## Docstring"
   ]
  },
  {
   "cell_type": "markdown",
   "metadata": {},
   "source": [
    "### Google Style Python Docstrings\n",
    "\n",
    "https://google.github.io/styleguide/pyguide.html\n",
    "\n",
    "https://sphinxcontrib-napoleon.readthedocs.io/en/latest/example_google.html"
   ]
  },
  {
   "cell_type": "code",
   "execution_count": 36,
   "metadata": {},
   "outputs": [],
   "source": [
    "def google_docstring_function(param1, param2=None, *args, **kwargs):\n",
    "    \"\"\"This is an example of a module level function.\n",
    "\n",
    "    Function parameters should be documented in the ``Args`` section. The name\n",
    "    of each parameter is required. The type and description of each parameter\n",
    "    is optional, but should be included if not obvious.\n",
    "\n",
    "    If \\*args or \\*\\*kwargs are accepted,\n",
    "    they should be listed as ``*args`` and ``**kwargs``.\n",
    "\n",
    "    The format for a parameter is::\n",
    "\n",
    "        name (type): description\n",
    "            The description may span multiple lines. Following\n",
    "            lines should be indented. The \"(type)\" is optional.\n",
    "\n",
    "            Multiple paragraphs are supported in parameter\n",
    "            descriptions.\n",
    "\n",
    "    Args:\n",
    "        param1 (int): The first parameter.\n",
    "        param2 (:obj:`str`, optional): The second parameter. Defaults to None.\n",
    "            Second line of description should be indented.\n",
    "        *args: Variable length argument list.\n",
    "        **kwargs: Arbitrary keyword arguments.\n",
    "\n",
    "    Returns:\n",
    "        bool: True if successful, False otherwise.\n",
    "\n",
    "        The return type is optional and may be specified at the beginning of\n",
    "        the ``Returns`` section followed by a colon.\n",
    "\n",
    "        The ``Returns`` section may span multiple lines and paragraphs.\n",
    "        Following lines should be indented to match the first line.\n",
    "\n",
    "        The ``Returns`` section supports any reStructuredText formatting,\n",
    "        including literal blocks::\n",
    "\n",
    "            {\n",
    "                'param1': param1,\n",
    "                'param2': param2\n",
    "            }\n",
    "\n",
    "    Raises:\n",
    "        AttributeError: The ``Raises`` section is a list of all exceptions\n",
    "            that are relevant to the interface.\n",
    "        ValueError: If `param2` is equal to `param1`.\n",
    "\n",
    "    \"\"\"\n",
    "    if param1 == param2:\n",
    "        raise ValueError('param1 may not be equal to param2')\n",
    "    return True\n"
   ]
  },
  {
   "cell_type": "code",
   "execution_count": null,
   "metadata": {},
   "outputs": [],
   "source": []
  },
  {
   "cell_type": "code",
   "execution_count": 78,
   "metadata": {},
   "outputs": [
    {
     "name": "stdout",
     "output_type": "stream",
     "text": [
      "This is an example of a module level function.\n",
      "\n",
      "    Function parameters should be documented in the ``Args`` section. The name\n",
      "    of each parameter is required. The type and description of each parameter\n",
      "    is optional, but should be included if not obvious.\n",
      "\n",
      "    If \\*args or \\*\\*kwargs are accepted,\n",
      "    they should be listed as ``*args`` and ``**kwargs``.\n",
      "\n",
      "    The format for a parameter is::\n",
      "\n",
      "        name (type): description\n",
      "            The description may span multiple lines. Following\n",
      "            lines should be indented. The \"(type)\" is optional.\n",
      "\n",
      "            Multiple paragraphs are supported in parameter\n",
      "            descriptions.\n",
      "\n",
      "    Args:\n",
      "        param1 (int): The first parameter.\n",
      "        param2 (:obj:`str`, optional): The second parameter. Defaults to None.\n",
      "            Second line of description should be indented.\n",
      "        *args: Variable length argument list.\n",
      "        **kwargs: Arbitrary keyword arguments.\n",
      "\n",
      "    Returns:\n",
      "        bool: True if successful, False otherwise.\n",
      "\n",
      "        The return type is optional and may be specified at the beginning of\n",
      "        the ``Returns`` section followed by a colon.\n",
      "\n",
      "        The ``Returns`` section may span multiple lines and paragraphs.\n",
      "        Following lines should be indented to match the first line.\n",
      "\n",
      "        The ``Returns`` section supports any reStructuredText formatting,\n",
      "        including literal blocks::\n",
      "\n",
      "            {\n",
      "                'param1': param1,\n",
      "                'param2': param2\n",
      "            }\n",
      "\n",
      "    Raises:\n",
      "        AttributeError: The ``Raises`` section is a list of all exceptions\n",
      "            that are relevant to the interface.\n",
      "        ValueError: If `param2` is equal to `param1`.\n",
      "\n",
      "    \n"
     ]
    }
   ],
   "source": [
    "print(google_docstring_function.__doc__)"
   ]
  },
  {
   "cell_type": "code",
   "execution_count": 41,
   "metadata": {},
   "outputs": [
    {
     "name": "stdout",
     "output_type": "stream",
     "text": [
      "Help on function google_docstring_function in module __main__:\n",
      "\n",
      "google_docstring_function(param1, param2=None, *args, **kwargs)\n",
      "    This is an example of a module level function.\n",
      "    \n",
      "    Function parameters should be documented in the ``Args`` section. The name\n",
      "    of each parameter is required. The type and description of each parameter\n",
      "    is optional, but should be included if not obvious.\n",
      "    \n",
      "    If \\*args or \\*\\*kwargs are accepted,\n",
      "    they should be listed as ``*args`` and ``**kwargs``.\n",
      "    \n",
      "    The format for a parameter is::\n",
      "    \n",
      "        name (type): description\n",
      "            The description may span multiple lines. Following\n",
      "            lines should be indented. The \"(type)\" is optional.\n",
      "    \n",
      "            Multiple paragraphs are supported in parameter\n",
      "            descriptions.\n",
      "    \n",
      "    Args:\n",
      "        param1 (int): The first parameter.\n",
      "        param2 (:obj:`str`, optional): The second parameter. Defaults to None.\n",
      "            Second line of description should be indented.\n",
      "        *args: Variable length argument list.\n",
      "        **kwargs: Arbitrary keyword arguments.\n",
      "    \n",
      "    Returns:\n",
      "        bool: True if successful, False otherwise.\n",
      "    \n",
      "        The return type is optional and may be specified at the beginning of\n",
      "        the ``Returns`` section followed by a colon.\n",
      "    \n",
      "        The ``Returns`` section may span multiple lines and paragraphs.\n",
      "        Following lines should be indented to match the first line.\n",
      "    \n",
      "        The ``Returns`` section supports any reStructuredText formatting,\n",
      "        including literal blocks::\n",
      "    \n",
      "            {\n",
      "                'param1': param1,\n",
      "                'param2': param2\n",
      "            }\n",
      "    \n",
      "    Raises:\n",
      "        AttributeError: The ``Raises`` section is a list of all exceptions\n",
      "            that are relevant to the interface.\n",
      "        ValueError: If `param2` is equal to `param1`.\n",
      "\n"
     ]
    }
   ],
   "source": [
    "help(google_docstring_function)"
   ]
  },
  {
   "cell_type": "code",
   "execution_count": 39,
   "metadata": {},
   "outputs": [
    {
     "name": "stdout",
     "output_type": "stream",
     "text": [
      "Help on function fnc5 in module __main__:\n",
      "\n",
      "fnc5(a, b, z=1, /, c=4, *, d=None, e=1)\n",
      "\n"
     ]
    }
   ],
   "source": [
    "help(fnc5)"
   ]
  },
  {
   "cell_type": "code",
   "execution_count": 40,
   "metadata": {},
   "outputs": [
    {
     "name": "stdout",
     "output_type": "stream",
     "text": [
      "None\n"
     ]
    }
   ],
   "source": [
    "print(fnc5.__doc__)"
   ]
  },
  {
   "cell_type": "code",
   "execution_count": null,
   "metadata": {},
   "outputs": [],
   "source": []
  },
  {
   "cell_type": "markdown",
   "metadata": {},
   "source": [
    "### NumPy Style Python Docstrings\n",
    "\n",
    "https://sphinxcontrib-napoleon.readthedocs.io/en/latest/example_numpy.html#example-numpy"
   ]
  },
  {
   "cell_type": "code",
   "execution_count": 42,
   "metadata": {},
   "outputs": [],
   "source": [
    "def numpy_docstring_function(param1, param2=None, *args, **kwargs):\n",
    "    \"\"\"This is an example of a module level function.\n",
    "\n",
    "    Function parameters should be documented in the ``Parameters`` section.\n",
    "    The name of each parameter is required. The type and description of each\n",
    "    parameter is optional, but should be included if not obvious.\n",
    "\n",
    "    If \\*args or \\*\\*kwargs are accepted,\n",
    "    they should be listed as ``*args`` and ``**kwargs``.\n",
    "\n",
    "    The format for a parameter is::\n",
    "\n",
    "        name : type\n",
    "            description\n",
    "\n",
    "            The description may span multiple lines. Following lines\n",
    "            should be indented to match the first line of the description.\n",
    "            The \": type\" is optional.\n",
    "\n",
    "            Multiple paragraphs are supported in parameter\n",
    "            descriptions.\n",
    "\n",
    "    Parameters\n",
    "    ----------\n",
    "    param1 : int\n",
    "        The first parameter.\n",
    "    param2 : :obj:`str`, optional\n",
    "        The second parameter.\n",
    "    *args\n",
    "        Variable length argument list.\n",
    "    **kwargs\n",
    "        Arbitrary keyword arguments.\n",
    "\n",
    "    Returns\n",
    "    -------\n",
    "    bool\n",
    "        True if successful, False otherwise.\n",
    "\n",
    "        The return type is not optional. The ``Returns`` section may span\n",
    "        multiple lines and paragraphs. Following lines should be indented to\n",
    "        match the first line of the description.\n",
    "\n",
    "        The ``Returns`` section supports any reStructuredText formatting,\n",
    "        including literal blocks::\n",
    "\n",
    "            {\n",
    "                'param1': param1,\n",
    "                'param2': param2\n",
    "            }\n",
    "\n",
    "    Raises\n",
    "    ------\n",
    "    AttributeError\n",
    "        The ``Raises`` section is a list of all exceptions\n",
    "        that are relevant to the interface.\n",
    "    ValueError\n",
    "        If `param2` is equal to `param1`.\n",
    "\n",
    "    \"\"\"\n",
    "    if param1 == param2:\n",
    "        raise ValueError('param1 may not be equal to param2')\n",
    "    return True"
   ]
  },
  {
   "cell_type": "code",
   "execution_count": 43,
   "metadata": {},
   "outputs": [
    {
     "name": "stdout",
     "output_type": "stream",
     "text": [
      "Help on function numpy_docstring_function in module __main__:\n",
      "\n",
      "numpy_docstring_function(param1, param2=None, *args, **kwargs)\n",
      "    This is an example of a module level function.\n",
      "    \n",
      "    Function parameters should be documented in the ``Parameters`` section.\n",
      "    The name of each parameter is required. The type and description of each\n",
      "    parameter is optional, but should be included if not obvious.\n",
      "    \n",
      "    If \\*args or \\*\\*kwargs are accepted,\n",
      "    they should be listed as ``*args`` and ``**kwargs``.\n",
      "    \n",
      "    The format for a parameter is::\n",
      "    \n",
      "        name : type\n",
      "            description\n",
      "    \n",
      "            The description may span multiple lines. Following lines\n",
      "            should be indented to match the first line of the description.\n",
      "            The \": type\" is optional.\n",
      "    \n",
      "            Multiple paragraphs are supported in parameter\n",
      "            descriptions.\n",
      "    \n",
      "    Parameters\n",
      "    ----------\n",
      "    param1 : int\n",
      "        The first parameter.\n",
      "    param2 : :obj:`str`, optional\n",
      "        The second parameter.\n",
      "    *args\n",
      "        Variable length argument list.\n",
      "    **kwargs\n",
      "        Arbitrary keyword arguments.\n",
      "    \n",
      "    Returns\n",
      "    -------\n",
      "    bool\n",
      "        True if successful, False otherwise.\n",
      "    \n",
      "        The return type is not optional. The ``Returns`` section may span\n",
      "        multiple lines and paragraphs. Following lines should be indented to\n",
      "        match the first line of the description.\n",
      "    \n",
      "        The ``Returns`` section supports any reStructuredText formatting,\n",
      "        including literal blocks::\n",
      "    \n",
      "            {\n",
      "                'param1': param1,\n",
      "                'param2': param2\n",
      "            }\n",
      "    \n",
      "    Raises\n",
      "    ------\n",
      "    AttributeError\n",
      "        The ``Raises`` section is a list of all exceptions\n",
      "        that are relevant to the interface.\n",
      "    ValueError\n",
      "        If `param2` is equal to `param1`.\n",
      "\n"
     ]
    }
   ],
   "source": [
    "help(numpy_docstring_function)"
   ]
  },
  {
   "cell_type": "code",
   "execution_count": null,
   "metadata": {},
   "outputs": [],
   "source": []
  },
  {
   "cell_type": "code",
   "execution_count": null,
   "metadata": {},
   "outputs": [],
   "source": []
  },
  {
   "cell_type": "code",
   "execution_count": null,
   "metadata": {},
   "outputs": [],
   "source": []
  },
  {
   "cell_type": "markdown",
   "metadata": {},
   "source": [
    "## reStructuredText Docstring Format\n",
    "\n",
    "https://www.python.org/dev/peps/pep-0287/\n",
    "\n",
    "https://thomas-cokelaer.info/tutorials/sphinx/docstring_python.html"
   ]
  },
  {
   "cell_type": "code",
   "execution_count": 44,
   "metadata": {},
   "outputs": [],
   "source": [
    "def sphinx_docstring_function(arg1, arg2, arg3):\n",
    "    \"\"\"returns (arg1 / arg2) + arg3\n",
    "\n",
    "    This is a longer explanation, which may include math with latex syntax\n",
    "    :math:`\\\\alpha`.\n",
    "    Then, you need to provide optional subsection in this order (just to be\n",
    "    consistent and have a uniform documentation. Nothing prevent you to\n",
    "    switch the order):\n",
    "\n",
    "      - parameters using ``:param <name>: <description>``\n",
    "      - type of the parameters ``:type <name>: <description>``\n",
    "      - returns using ``:returns: <description>``\n",
    "      - examples (doctest)\n",
    "      - seealso using ``.. seealso:: text``\n",
    "      - notes using ``.. note:: text``\n",
    "      - warning using ``.. warning:: text``\n",
    "      - todo ``.. todo:: text``\n",
    "\n",
    "    **Advantages**:\n",
    "     - Uses sphinx markups, which will certainly be improved in future\n",
    "       version\n",
    "     - Nice HTML output with the See Also, Note, Warnings directives\n",
    "\n",
    "\n",
    "    **Drawbacks**:\n",
    "     - Just looking at the docstring, the parameter, type and  return\n",
    "       sections do not appear nicely\n",
    "\n",
    "    :param arg1: the first value\n",
    "    :param arg2: the first value\n",
    "    :param arg3: the first value\n",
    "    :type arg1: int, float,...\n",
    "    :type arg2: int, float,...\n",
    "    :type arg3: int, float,...\n",
    "    :returns: arg1/arg2 + arg3\n",
    "    :rtype: int, float\n",
    "\n",
    "    :Example:\n",
    "\n",
    "    >>> import template\n",
    "    >>> a = template.MainClass1()\n",
    "    >>> a.function1(1,1,1)\n",
    "    2\n",
    "\n",
    "    .. note:: can be useful to emphasize\n",
    "        important feature\n",
    "    .. seealso:: :class:`MainClass2`\n",
    "    .. warning:: arg2 must be non-zero.\n",
    "    .. todo:: check that arg2 is non zero.\n",
    "    \"\"\"\n",
    "    return arg1 / arg2 + arg3"
   ]
  },
  {
   "cell_type": "code",
   "execution_count": 45,
   "metadata": {},
   "outputs": [
    {
     "name": "stdout",
     "output_type": "stream",
     "text": [
      "Help on function sphinx_docstring_function in module __main__:\n",
      "\n",
      "sphinx_docstring_function(arg1, arg2, arg3)\n",
      "    returns (arg1 / arg2) + arg3\n",
      "    \n",
      "    This is a longer explanation, which may include math with latex syntax\n",
      "    :math:`\\alpha`.\n",
      "    Then, you need to provide optional subsection in this order (just to be\n",
      "    consistent and have a uniform documentation. Nothing prevent you to\n",
      "    switch the order):\n",
      "    \n",
      "      - parameters using ``:param <name>: <description>``\n",
      "      - type of the parameters ``:type <name>: <description>``\n",
      "      - returns using ``:returns: <description>``\n",
      "      - examples (doctest)\n",
      "      - seealso using ``.. seealso:: text``\n",
      "      - notes using ``.. note:: text``\n",
      "      - warning using ``.. warning:: text``\n",
      "      - todo ``.. todo:: text``\n",
      "    \n",
      "    **Advantages**:\n",
      "     - Uses sphinx markups, which will certainly be improved in future\n",
      "       version\n",
      "     - Nice HTML output with the See Also, Note, Warnings directives\n",
      "    \n",
      "    \n",
      "    **Drawbacks**:\n",
      "     - Just looking at the docstring, the parameter, type and  return\n",
      "       sections do not appear nicely\n",
      "    \n",
      "    :param arg1: the first value\n",
      "    :param arg2: the first value\n",
      "    :param arg3: the first value\n",
      "    :type arg1: int, float,...\n",
      "    :type arg2: int, float,...\n",
      "    :type arg3: int, float,...\n",
      "    :returns: arg1/arg2 + arg3\n",
      "    :rtype: int, float\n",
      "    \n",
      "    :Example:\n",
      "    \n",
      "    >>> import template\n",
      "    >>> a = template.MainClass1()\n",
      "    >>> a.function1(1,1,1)\n",
      "    2\n",
      "    \n",
      "    .. note:: can be useful to emphasize\n",
      "        important feature\n",
      "    .. seealso:: :class:`MainClass2`\n",
      "    .. warning:: arg2 must be non-zero.\n",
      "    .. todo:: check that arg2 is non zero.\n",
      "\n"
     ]
    }
   ],
   "source": [
    "help(sphinx_docstring_function)"
   ]
  },
  {
   "cell_type": "markdown",
   "metadata": {},
   "source": [
    "## Lambdas"
   ]
  },
  {
   "cell_type": "markdown",
   "metadata": {},
   "source": [
    "https://docs.python.org/3/reference/expressions.html#lambdahttps://docs.python.org/3/reference/expressions.html#lambdahttps://docs.python.org/3/reference/expressions.html#lambda"
   ]
  },
  {
   "cell_type": "markdown",
   "metadata": {},
   "source": [
    "The lambda keyword in Python provides a shortcut for declaring\n",
    "small anonymous functions. Lambda functions behave just like\n",
    "regular functions declared with the def keyword. They can be used\n",
    "whenever function objects are required.\n",
    "For example, this is how you’d define a simple lambda function carrying\n",
    "out an addition:"
   ]
  },
  {
   "cell_type": "code",
   "execution_count": 79,
   "metadata": {},
   "outputs": [],
   "source": [
    "add = lambda x, y: x+y"
   ]
  },
  {
   "cell_type": "code",
   "execution_count": 80,
   "metadata": {},
   "outputs": [
    {
     "data": {
      "text/plain": [
       "8"
      ]
     },
     "execution_count": 80,
     "metadata": {},
     "output_type": "execute_result"
    }
   ],
   "source": [
    "add(5,3)"
   ]
  },
  {
   "cell_type": "code",
   "execution_count": 81,
   "metadata": {},
   "outputs": [
    {
     "data": {
      "text/plain": [
       "8"
      ]
     },
     "execution_count": 81,
     "metadata": {},
     "output_type": "execute_result"
    }
   ],
   "source": [
    "def add(x, y):\n",
    "    return x + y\n",
    "add(5, 3)"
   ]
  },
  {
   "cell_type": "markdown",
   "metadata": {},
   "source": [
    "When should you use lambda functions in your code? Technically, any\n",
    "time you’re expected to supply a function object you can use a lambda\n",
    "expression. And because lambdas can be anonymous, you don’t even\n",
    "need to assign them to a name first."
   ]
  },
  {
   "cell_type": "code",
   "execution_count": 82,
   "metadata": {},
   "outputs": [
    {
     "data": {
      "text/plain": [
       "[(4, 'a'), (2, 'b'), (3, 'c'), (1, 'd')]"
      ]
     },
     "execution_count": 82,
     "metadata": {},
     "output_type": "execute_result"
    }
   ],
   "source": [
    "tuples = [(1, 'd'), (2, 'b'), (4, 'a'), (3, 'c')]\n",
    "sorted(tuples, key=lambda x: x[1])\n"
   ]
  },
  {
   "cell_type": "markdown",
   "metadata": {},
   "source": [
    "In the above example, we’re sorting a list of tuples by the second value\n",
    "in each tuple. In this case, the lambda function provides a quick way\n",
    "to modify the sort order. Here’s another sorting example you can play\n",
    "with:"
   ]
  },
  {
   "cell_type": "markdown",
   "metadata": {},
   "source": [
    "## Decorators\n",
    "\n",
    "[PEP 318 -- Decorators for Functions and Methods](https://www.python.org/dev/peps/pep-0318/)"
   ]
  },
  {
   "cell_type": "markdown",
   "metadata": {},
   "source": [
    "At their core, Python’s decorators allow you to extend and modify the\n",
    "behavior of a callable (functions, methods, and classes) without permanently\n",
    "modifying the callable itself.\n",
    "Any sufficiently generic functionality you can tack on to an existing\n",
    "class or function’s behavior makes a great use case for decoration.\n",
    "This includes the following:\n",
    "- logging\n",
    "- enforcing access control and authentication\n",
    "- instrumentation and timing functions\n",
    "- rate-limiting\n",
    "- caching, and more"
   ]
  },
  {
   "cell_type": "markdown",
   "metadata": {
    "ExecuteTime": {
     "end_time": "2024-05-19T14:18:10.289456Z",
     "start_time": "2024-05-19T14:18:10.273278Z"
    }
   },
   "source": [
    "Now, what are decorators really? They “decorate” or “wrap” another\n",
    "function and let you execute code before and after the wrapped function\n",
    "runs.\n",
    "Decorators allow you to define reusable building blocks that can\n",
    "change or extend the behavior of other functions. And, they let you\n",
    "do that without permanently modifying the wrapped function itself.\n",
    "The function’s behavior changes only when it’s decorated."
   ]
  },
  {
   "cell_type": "code",
   "execution_count": 83,
   "metadata": {},
   "outputs": [
    {
     "data": {
      "text/plain": [
       "'Hello!'"
      ]
     },
     "execution_count": 83,
     "metadata": {},
     "output_type": "execute_result"
    }
   ],
   "source": [
    "def null_decorator(func):\n",
    "    return func\n",
    "\n",
    "def greet():\n",
    "    return 'Hello!'\n",
    "greet = null_decorator(greet)\n",
    "greet()\n"
   ]
  },
  {
   "cell_type": "code",
   "execution_count": 84,
   "metadata": {},
   "outputs": [
    {
     "data": {
      "text/plain": [
       "'Hello!'"
      ]
     },
     "execution_count": 84,
     "metadata": {},
     "output_type": "execute_result"
    }
   ],
   "source": [
    "@null_decorator\n",
    "def greet():\n",
    "    return 'Hello!'\n",
    "greet()\n"
   ]
  },
  {
   "cell_type": "code",
   "execution_count": 9,
   "metadata": {},
   "outputs": [],
   "source": [
    "def uppercase(func):\n",
    "    def wrapper():\n",
    "        \n",
    "        original_result = func()\n",
    "        modified_result = original_result.upper()\n",
    "        return modified_result\n",
    "    return wrapper"
   ]
  },
  {
   "cell_type": "markdown",
   "metadata": {},
   "source": [
    "Instead of simply returning the input function like the null decorator did, this uppercase decorator defines a new function on the fly (a\n",
    "closure) and uses it to wrap the input function in order to modify its\n",
    "behavior at call time.\n"
   ]
  },
  {
   "cell_type": "code",
   "execution_count": 85,
   "metadata": {},
   "outputs": [
    {
     "data": {
      "text/plain": [
       "'HELLO!'"
      ]
     },
     "execution_count": 85,
     "metadata": {},
     "output_type": "execute_result"
    }
   ],
   "source": [
    "@uppercase\n",
    "def greet():\n",
    "    return f'Hello!'\n",
    "greet()\n"
   ]
  },
  {
   "cell_type": "code",
   "execution_count": 86,
   "metadata": {},
   "outputs": [],
   "source": [
    "def strong(func):\n",
    "    def wrapper():\n",
    "        return '<strong>' + func() + '</strong>'\n",
    "    return wrapper\n",
    "def emphasis(func):\n",
    "    def wrapper():\n",
    "        return '<em>' + func() + '</em>'\n",
    "    return wrapper"
   ]
  },
  {
   "cell_type": "code",
   "execution_count": 89,
   "metadata": {},
   "outputs": [],
   "source": [
    "@strong\n",
    "@emphasis\n",
    "def greet():\n",
    "    return 'Hello!'"
   ]
  },
  {
   "cell_type": "code",
   "execution_count": 88,
   "metadata": {},
   "outputs": [
    {
     "data": {
      "text/plain": [
       "'<strong><em>Hello!</em></strong>'"
      ]
     },
     "execution_count": 88,
     "metadata": {},
     "output_type": "execute_result"
    }
   ],
   "source": [
    "greet()"
   ]
  },
  {
   "cell_type": "code",
   "execution_count": 15,
   "metadata": {},
   "outputs": [],
   "source": [
    "decorated_greet = strong(emphasis(greet))\n"
   ]
  },
  {
   "cell_type": "code",
   "execution_count": 90,
   "metadata": {},
   "outputs": [],
   "source": [
    "def trace(func):\n",
    "    def wrapper(*args, **kwargs):\n",
    "        print(f'TRACE: calling {func.__name__}() with {args}, {kwargs}')\n",
    "        original_result = func(*args, **kwargs)\n",
    "        print(f'TRACE: {func.__name__}() returned {original_result!r}')\n",
    "        return original_result\n",
    "    return wrapper\n"
   ]
  },
  {
   "cell_type": "code",
   "execution_count": 92,
   "metadata": {},
   "outputs": [
    {
     "name": "stdout",
     "output_type": "stream",
     "text": [
      "TRACE: calling say() with ('Mona', 'Liza'), {}\n",
      "TRACE: say() returned 'Mona: Liza'\n"
     ]
    },
    {
     "data": {
      "text/plain": [
       "'Mona: Liza'"
      ]
     },
     "execution_count": 92,
     "metadata": {},
     "output_type": "execute_result"
    }
   ],
   "source": [
    "@trace\n",
    "def say(name, line):\n",
    "    return f'{name}: {line}'\n",
    "say('Mona', 'Liza')"
   ]
  },
  {
   "cell_type": "markdown",
   "metadata": {},
   "source": [
    "When you use a decorator, really what you’re doing is replacing one\n",
    "function with another. One downside of this process is that it “hides”\n",
    "some of the metadata attached to the original (undecorated) function.\n",
    "For example, the original function name, its docstring, and parameter\n",
    "list are hidden by the wrapper closure."
   ]
  },
  {
   "cell_type": "code",
   "execution_count": 93,
   "metadata": {
    "ExecuteTime": {
     "end_time": "2024-05-19T14:27:17.012519Z",
     "start_time": "2024-05-19T14:27:16.994914Z"
    }
   },
   "outputs": [
    {
     "name": "stdout",
     "output_type": "stream",
     "text": [
      "greet\n",
      "Return a friendly greeting.\n",
      "wrapper\n",
      "None\n"
     ]
    }
   ],
   "source": [
    "def uppercase(func):\n",
    "    def wrapper():\n",
    "        original_result = func()\n",
    "        modified_result = original_result.upper()\n",
    "        return modified_result\n",
    "    return wrapper\n",
    "def greet():\n",
    "    \"\"\"Return a friendly greeting.\"\"\"\n",
    "    return 'Hello!'\n",
    "decorated_greet = uppercase(greet)\n",
    "print(greet.__name__)\n",
    "print(greet.__doc__)\n",
    "print(decorated_greet.__name__)\n",
    "print(decorated_greet.__doc__)"
   ]
  },
  {
   "cell_type": "markdown",
   "metadata": {},
   "source": [
    "This makes debugging and working with the Python interpreter\n",
    "awkward and challenging. Thankfully there’s a quick fix for this: the\n",
    "functools.wraps decorator included in Python’s standard library.\n",
    "We can use functools.wraps in your own decorators to copy over the\n",
    "lost metadata from the undecorated function to the decorator closure."
   ]
  },
  {
   "cell_type": "code",
   "execution_count": 94,
   "metadata": {},
   "outputs": [
    {
     "name": "stdout",
     "output_type": "stream",
     "text": [
      "greet\n",
      "Return a friendly greeting.\n",
      "greet\n",
      "Return a friendly greeting.\n"
     ]
    }
   ],
   "source": [
    "import functools\n",
    "\n",
    "def uppercase(func):\n",
    "    @functools.wraps(func)\n",
    "    def wrapper():\n",
    "        original_result = func()\n",
    "        modified_result = original_result.upper()\n",
    "        return modified_result\n",
    "    return wrapper\n",
    "def greet():\n",
    "    \"\"\"Return a friendly greeting.\"\"\"\n",
    "    return 'Hello!'\n",
    "decorated_greet = uppercase(greet)\n",
    "print(greet.__name__)\n",
    "print(greet.__doc__)\n",
    "print(decorated_greet.__name__)\n",
    "print(decorated_greet.__doc__)"
   ]
  },
  {
   "cell_type": "markdown",
   "metadata": {},
   "source": [
    "## Type Hints\n",
    "\n",
    "[PEP 484 -- Type Hints](https://www.python.org/dev/peps/pep-0484/): Python 3.5\n",
    "\n",
    "[PEP 526 -- Syntax for Variable Annotations](https://www.python.org/dev/peps/pep-0526/): Python 3.6\n",
    "\n",
    "[PEP 544 -- Protocols: Structural subtyping (static duck typing)](https://www.python.org/dev/peps/pep-0544/): Python 3.8\n",
    "\n",
    "[PEP 586 -- Literal Types](https://www.python.org/dev/peps/pep-0586/): Python 3.8\n",
    "\n",
    "[PEP 589 -- TypedDict: Type Hints for Dictionaries with a Fixed Set of Keys](https://www.python.org/dev/peps/pep-0589/): Python 3.8\n",
    "\n",
    "[PEP 591 -- Adding a final qualifier to typing](https://www.python.org/dev/peps/pep-0591/): Python 3.8\n",
    "\n",
    "    \n",
    "## tl;dr\n",
    "typing module: [Latest](https://docs.python.org/3/library/typing.html), [Python 3.6-3.8](https://docs.python.org/3.8/library/typing.html)\n",
    "\n",
    "[Type hints cheat sheet](https://mypy.readthedocs.io/en/stable/cheat_sheet_py3.html)\n"
   ]
  },
  {
   "cell_type": "code",
   "execution_count": 83,
   "metadata": {},
   "outputs": [],
   "source": [
    "age: int = 1"
   ]
  },
  {
   "cell_type": "code",
   "execution_count": 96,
   "metadata": {},
   "outputs": [],
   "source": [
    "age: str = \"s\""
   ]
  },
  {
   "cell_type": "markdown",
   "metadata": {},
   "source": [
    "```python\n",
    "## Python 3.9\n",
    "from typing import Union\n",
    "\n",
    "\n",
    "def fun(a: Union[int, str], b: str, c: str = None) -> dict:\n",
    "    return a, b, c\n",
    "\n",
    "\n",
    "\n",
    "fun(1, \"st\", \"st\")\n",
    "fun(\"str\", \"st\", \"st\")\n",
    "fun(0.1, \"st\", \"st\")\n",
    "\n",
    "# fun(1, \"st\", \"st\").items()\n",
    "\n",
    "def fun(*args: int) -> tuple[int]:\n",
    "    return args\n",
    "\n",
    "\n",
    "## Python 3.6 - 3.8\n",
    "from typing import Tuple, Union, Dict\n",
    "\n",
    "\n",
    "def fun(a: Union[int, str], b: str, c: str = None) -> dict:\n",
    "    return a, b, c\n",
    "\n",
    "fun(1, \"st\", \"st\")\n",
    "fun(\"str\", \"st\", \"st\")\n",
    "fun(0.1, \"st\", \"st\")\n",
    "\n",
    "fun(1, \"st\", \"st\")\n",
    "\n",
    "\n",
    "\n",
    "def fun(*args: int) -> Tuple[int]:\n",
    "    return args\n",
    "\n",
    "```"
   ]
  },
  {
   "cell_type": "markdown",
   "metadata": {},
   "source": [
    "# Exceptions"
   ]
  },
  {
   "cell_type": "markdown",
   "metadata": {},
   "source": [
    "https://docs.python.org/3/tutorial/errors.html?highlight=exceptions\n",
    "\n",
    "https://docs.python.org/3/library/exceptions.html"
   ]
  },
  {
   "cell_type": "code",
   "execution_count": null,
   "metadata": {},
   "outputs": [],
   "source": []
  },
  {
   "cell_type": "code",
   "execution_count": 97,
   "metadata": {
    "ExecuteTime": {
     "end_time": "2021-01-20T08:17:51.429470Z",
     "start_time": "2021-01-20T08:17:51.425562Z"
    }
   },
   "outputs": [
    {
     "name": "stdout",
     "output_type": "stream",
     "text": [
      "ZeroDivisionError: division by zero, <class 'ZeroDivisionError'>\n",
      "Always execute\n"
     ]
    }
   ],
   "source": [
    "val = 0\n",
    "\n",
    "try:\n",
    "    result = 1 / val\n",
    "except (ZeroDivisionError, ArithmeticError) as ex:\n",
    "    print(f\"ZeroDivisionError: {ex}, {type(ex)}\")\n",
    "else:\n",
    "    print(f\"No exception raises, result = {result}\")\n",
    "finally:\n",
    "    print(\"Always execute\")"
   ]
  },
  {
   "cell_type": "code",
   "execution_count": 98,
   "metadata": {
    "ExecuteTime": {
     "end_time": "2021-01-20T08:18:12.605493Z",
     "start_time": "2021-01-20T08:18:12.602122Z"
    }
   },
   "outputs": [
    {
     "name": "stdout",
     "output_type": "stream",
     "text": [
      "No exception raises, result = 1.0\n",
      "Always execute\n"
     ]
    }
   ],
   "source": [
    "val = 1\n",
    "\n",
    "try:\n",
    "    result = 1 / val\n",
    "except ZeroDivisionError as ex:\n",
    "    print(f\"ZeroDivisionError: {ex}, {type(ex)}\")\n",
    "else:\n",
    "    print(f\"No exception raises, result = {result}\")\n",
    "finally:\n",
    "    print(\"Always execute\")"
   ]
  },
  {
   "cell_type": "code",
   "execution_count": null,
   "metadata": {},
   "outputs": [],
   "source": []
  },
  {
   "cell_type": "code",
   "execution_count": 99,
   "metadata": {
    "ExecuteTime": {
     "end_time": "2021-01-20T08:20:13.366596Z",
     "start_time": "2021-01-20T08:20:13.337360Z"
    }
   },
   "outputs": [
    {
     "ename": "SystemError",
     "evalue": "AAAAAA",
     "output_type": "error",
     "traceback": [
      "\u001b[0;31m---------------------------------------------------------------------------\u001b[0m",
      "\u001b[0;31mZeroDivisionError\u001b[0m                         Traceback (most recent call last)",
      "\u001b[0;32m<ipython-input-99-c973dead43a1>\u001b[0m in \u001b[0;36m<module>\u001b[0;34m\u001b[0m\n\u001b[1;32m      1\u001b[0m \u001b[0;32mtry\u001b[0m\u001b[0;34m:\u001b[0m\u001b[0;34m\u001b[0m\u001b[0;34m\u001b[0m\u001b[0m\n\u001b[0;32m----> 2\u001b[0;31m     \u001b[0;36m1\u001b[0m \u001b[0;34m/\u001b[0m \u001b[0;36m0\u001b[0m\u001b[0;34m\u001b[0m\u001b[0;34m\u001b[0m\u001b[0m\n\u001b[0m\u001b[1;32m      3\u001b[0m \u001b[0;32mexcept\u001b[0m \u001b[0mZeroDivisionError\u001b[0m \u001b[0;32mas\u001b[0m \u001b[0mex\u001b[0m\u001b[0;34m:\u001b[0m\u001b[0;34m\u001b[0m\u001b[0;34m\u001b[0m\u001b[0m\n",
      "\u001b[0;31mZeroDivisionError\u001b[0m: division by zero",
      "\nDuring handling of the above exception, another exception occurred:\n",
      "\u001b[0;31mSystemError\u001b[0m                               Traceback (most recent call last)",
      "\u001b[0;32m<ipython-input-99-c973dead43a1>\u001b[0m in \u001b[0;36m<module>\u001b[0;34m\u001b[0m\n\u001b[1;32m      2\u001b[0m     \u001b[0;36m1\u001b[0m \u001b[0;34m/\u001b[0m \u001b[0;36m0\u001b[0m\u001b[0;34m\u001b[0m\u001b[0;34m\u001b[0m\u001b[0m\n\u001b[1;32m      3\u001b[0m \u001b[0;32mexcept\u001b[0m \u001b[0mZeroDivisionError\u001b[0m \u001b[0;32mas\u001b[0m \u001b[0mex\u001b[0m\u001b[0;34m:\u001b[0m\u001b[0;34m\u001b[0m\u001b[0;34m\u001b[0m\u001b[0m\n\u001b[0;32m----> 4\u001b[0;31m     \u001b[0;32mraise\u001b[0m \u001b[0mSystemError\u001b[0m\u001b[0;34m(\u001b[0m\u001b[0;34m\"AAAAAA\"\u001b[0m\u001b[0;34m)\u001b[0m\u001b[0;34m\u001b[0m\u001b[0;34m\u001b[0m\u001b[0m\n\u001b[0m",
      "\u001b[0;31mSystemError\u001b[0m: AAAAAA"
     ]
    }
   ],
   "source": [
    "try:\n",
    "    1 / 0\n",
    "except ZeroDivisionError as ex:\n",
    "    raise SystemError(\"AAAAAA\")"
   ]
  },
  {
   "cell_type": "code",
   "execution_count": 4,
   "metadata": {
    "ExecuteTime": {
     "end_time": "2021-01-20T08:21:46.253615Z",
     "start_time": "2021-01-20T08:21:46.248776Z"
    },
    "scrolled": true
   },
   "outputs": [
    {
     "ename": "SystemError",
     "evalue": "AAAAAA",
     "output_type": "error",
     "traceback": [
      "\u001b[0;31m---------------------------------------------------------------------------\u001b[0m",
      "\u001b[0;31mSystemError\u001b[0m                               Traceback (most recent call last)",
      "\u001b[0;32m<ipython-input-4-6c03dbca1186>\u001b[0m in \u001b[0;36m<module>\u001b[0;34m\u001b[0m\n\u001b[1;32m      2\u001b[0m     \u001b[0;36m1\u001b[0m \u001b[0;34m/\u001b[0m \u001b[0;36m0\u001b[0m\u001b[0;34m\u001b[0m\u001b[0;34m\u001b[0m\u001b[0m\n\u001b[1;32m      3\u001b[0m \u001b[0;32mexcept\u001b[0m \u001b[0mZeroDivisionError\u001b[0m \u001b[0;32mas\u001b[0m \u001b[0mex\u001b[0m\u001b[0;34m:\u001b[0m\u001b[0;34m\u001b[0m\u001b[0;34m\u001b[0m\u001b[0m\n\u001b[0;32m----> 4\u001b[0;31m     \u001b[0;32mraise\u001b[0m \u001b[0mSystemError\u001b[0m\u001b[0;34m(\u001b[0m\u001b[0;34m\"AAAAAA\"\u001b[0m\u001b[0;34m)\u001b[0m \u001b[0;32mfrom\u001b[0m \u001b[0;32mNone\u001b[0m\u001b[0;34m\u001b[0m\u001b[0;34m\u001b[0m\u001b[0m\n\u001b[0m",
      "\u001b[0;31mSystemError\u001b[0m: AAAAAA"
     ]
    }
   ],
   "source": [
    "try:\n",
    "    1 / 0\n",
    "except ZeroDivisionError as ex:\n",
    "    raise SystemError(\"AAAAAA\") from None"
   ]
  },
  {
   "cell_type": "markdown",
   "metadata": {},
   "source": [
    "## [Exception Hierarchy](https://docs.python.org/3/library/exceptions.html?highlight=exceptions#exception-hierarchy)\n",
    "\n",
    "```\n",
    "BaseException\n",
    " +-- SystemExit\n",
    " +-- KeyboardInterrupt\n",
    " +-- GeneratorExit\n",
    " +-- Exception\n",
    "      +-- StopIteration\n",
    "      +-- StopAsyncIteration\n",
    "      +-- ArithmeticError\n",
    "      |    +-- FloatingPointError\n",
    "      |    +-- OverflowError\n",
    "      |    +-- ZeroDivisionError\n",
    "      +-- AssertionError\n",
    "      +-- AttributeError\n",
    "      +-- BufferError\n",
    "      +-- EOFError\n",
    "      +-- ImportError\n",
    "      |    +-- ModuleNotFoundError\n",
    "      +-- LookupError\n",
    "      |    +-- IndexError\n",
    "      |    +-- KeyError\n",
    "      +-- MemoryError\n",
    "      +-- NameError\n",
    "      |    +-- UnboundLocalError\n",
    "      +-- OSError\n",
    "      |    +-- BlockingIOError\n",
    "      |    +-- ChildProcessError\n",
    "      |    +-- ConnectionError\n",
    "      |    |    +-- BrokenPipeError\n",
    "      |    |    +-- ConnectionAbortedError\n",
    "      |    |    +-- ConnectionRefusedError\n",
    "      |    |    +-- ConnectionResetError\n",
    "      |    +-- FileExistsError\n",
    "      |    +-- FileNotFoundError\n",
    "      |    +-- InterruptedError\n",
    "      |    +-- IsADirectoryError\n",
    "      |    +-- NotADirectoryError\n",
    "      |    +-- PermissionError\n",
    "      |    +-- ProcessLookupError\n",
    "      |    +-- TimeoutError\n",
    "      +-- ReferenceError\n",
    "      +-- RuntimeError\n",
    "      |    +-- NotImplementedError\n",
    "      |    +-- RecursionError\n",
    "      +-- SyntaxError\n",
    "      |    +-- IndentationError\n",
    "      |         +-- TabError\n",
    "      +-- SystemError\n",
    "      +-- TypeError\n",
    "      +-- ValueError\n",
    "      |    +-- UnicodeError\n",
    "      |         +-- UnicodeDecodeError\n",
    "      |         +-- UnicodeEncodeError\n",
    "      |         +-- UnicodeTranslateError\n",
    "      +-- Warning\n",
    "           +-- DeprecationWarning\n",
    "           +-- PendingDeprecationWarning\n",
    "           +-- RuntimeWarning\n",
    "           +-- SyntaxWarning\n",
    "           +-- UserWarning\n",
    "           +-- FutureWarning\n",
    "           +-- ImportWarning\n",
    "           +-- UnicodeWarning\n",
    "           +-- BytesWarning\n",
    "           +-- ResourceWarning\n",
    "```"
   ]
  },
  {
   "cell_type": "code",
   "execution_count": 100,
   "metadata": {},
   "outputs": [],
   "source": [
    "class NameTooShortError(ValueError):\n",
    "    pass\n",
    "\n",
    "\n",
    "def validate(name):\n",
    "    if len(name) < 10:\n",
    "        raise NameTooShortError(name)\n"
   ]
  },
  {
   "cell_type": "code",
   "execution_count": 102,
   "metadata": {},
   "outputs": [
    {
     "ename": "NameTooShortError",
     "evalue": "jane",
     "output_type": "error",
     "traceback": [
      "\u001b[0;31m---------------------------------------------------------------------------\u001b[0m",
      "\u001b[0;31mNameTooShortError\u001b[0m                         Traceback (most recent call last)",
      "\u001b[0;32m<ipython-input-102-e12fe3239433>\u001b[0m in \u001b[0;36m<module>\u001b[0;34m\u001b[0m\n\u001b[0;32m----> 1\u001b[0;31m \u001b[0mvalidate\u001b[0m\u001b[0;34m(\u001b[0m\u001b[0;34m'jane'\u001b[0m\u001b[0;34m)\u001b[0m\u001b[0;34m\u001b[0m\u001b[0;34m\u001b[0m\u001b[0m\n\u001b[0m",
      "\u001b[0;32m<ipython-input-100-8cae596f61fb>\u001b[0m in \u001b[0;36mvalidate\u001b[0;34m(name)\u001b[0m\n\u001b[1;32m      5\u001b[0m \u001b[0;32mdef\u001b[0m \u001b[0mvalidate\u001b[0m\u001b[0;34m(\u001b[0m\u001b[0mname\u001b[0m\u001b[0;34m)\u001b[0m\u001b[0;34m:\u001b[0m\u001b[0;34m\u001b[0m\u001b[0;34m\u001b[0m\u001b[0m\n\u001b[1;32m      6\u001b[0m     \u001b[0;32mif\u001b[0m \u001b[0mlen\u001b[0m\u001b[0;34m(\u001b[0m\u001b[0mname\u001b[0m\u001b[0;34m)\u001b[0m \u001b[0;34m<\u001b[0m \u001b[0;36m10\u001b[0m\u001b[0;34m:\u001b[0m\u001b[0;34m\u001b[0m\u001b[0;34m\u001b[0m\u001b[0m\n\u001b[0;32m----> 7\u001b[0;31m         \u001b[0;32mraise\u001b[0m \u001b[0mNameTooShortError\u001b[0m\u001b[0;34m(\u001b[0m\u001b[0mname\u001b[0m\u001b[0;34m)\u001b[0m\u001b[0;34m\u001b[0m\u001b[0;34m\u001b[0m\u001b[0m\n\u001b[0m",
      "\u001b[0;31mNameTooShortError\u001b[0m: jane"
     ]
    }
   ],
   "source": [
    "validate('jane')"
   ]
  },
  {
   "cell_type": "markdown",
   "metadata": {},
   "source": [
    "Defining your own exception types will state your code’s intent\n",
    "more clearly and make it easier to debug."
   ]
  },
  {
   "cell_type": "code",
   "execution_count": null,
   "metadata": {},
   "outputs": [],
   "source": []
  },
  {
   "cell_type": "code",
   "execution_count": null,
   "metadata": {},
   "outputs": [],
   "source": []
  },
  {
   "cell_type": "code",
   "execution_count": null,
   "metadata": {},
   "outputs": [],
   "source": []
  },
  {
   "cell_type": "code",
   "execution_count": null,
   "metadata": {},
   "outputs": [],
   "source": []
  },
  {
   "cell_type": "code",
   "execution_count": null,
   "metadata": {},
   "outputs": [],
   "source": []
  }
 ],
 "metadata": {
  "hide_input": false,
  "kernelspec": {
   "display_name": "Python 3",
   "language": "python",
   "name": "python3"
  },
  "language_info": {
   "codemirror_mode": {
    "name": "ipython",
    "version": 3
   },
   "file_extension": ".py",
   "mimetype": "text/x-python",
   "name": "python",
   "nbconvert_exporter": "python",
   "pygments_lexer": "ipython3",
   "version": "3.8.10"
  },
  "toc": {
   "base_numbering": 1,
   "nav_menu": {},
   "number_sections": true,
   "sideBar": true,
   "skip_h1_title": false,
   "title_cell": "Table of Contents",
   "title_sidebar": "Contents",
   "toc_cell": false,
   "toc_position": {},
   "toc_section_display": true,
   "toc_window_display": false
  },
  "varInspector": {
   "cols": {
    "lenName": 16,
    "lenType": 16,
    "lenVar": 40
   },
   "kernels_config": {
    "python": {
     "delete_cmd_postfix": "",
     "delete_cmd_prefix": "del ",
     "library": "var_list.py",
     "varRefreshCmd": "print(var_dic_list())"
    },
    "r": {
     "delete_cmd_postfix": ") ",
     "delete_cmd_prefix": "rm(",
     "library": "var_list.r",
     "varRefreshCmd": "cat(var_dic_list()) "
    }
   },
   "types_to_exclude": [
    "module",
    "function",
    "builtin_function_or_method",
    "instance",
    "_Feature"
   ],
   "window_display": false
  }
 },
 "nbformat": 4,
 "nbformat_minor": 4
}
